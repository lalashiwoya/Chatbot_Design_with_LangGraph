{
 "cells": [
  {
   "cell_type": "code",
   "execution_count": 1,
   "metadata": {},
   "outputs": [],
   "source": [
    "from langchain_core.prompts import ChatPromptTemplate\n",
    "from langchain.schema import StrOutputParser"
   ]
  },
  {
   "cell_type": "code",
   "execution_count": 2,
   "metadata": {},
   "outputs": [],
   "source": [
    "from utils import init_llm"
   ]
  },
  {
   "cell_type": "code",
   "execution_count": 3,
   "metadata": {},
   "outputs": [],
   "source": [
    "llm = init_llm()"
   ]
  },
  {
   "cell_type": "code",
   "execution_count": 4,
   "metadata": {},
   "outputs": [],
   "source": [
    "template = \"\"\"\n",
    "You are a helpful chatbot.\n",
    "\n",
    "Answer this question from the user.\n",
    "\n",
    "Question: {question}\\n\n",
    "\n",
    "Chat_History: {chat_history}\\n\n",
    "\n",
    "Answer:\\n\n",
    "\"\"\"\n",
    "\n",
    "initial_answer_chain = (ChatPromptTemplate.from_template(template)\n",
    "                        |llm|StrOutputParser())\n"
   ]
  },
  {
   "cell_type": "code",
   "execution_count": 5,
   "metadata": {},
   "outputs": [],
   "source": [
    "template = \"\"\"\n",
    "You are a helpful doctor in diagnistion heart disease.\n",
    "\n",
    "Answer this question from your patient.\n",
    "\n",
    "Question: {question}\\n\n",
    "\n",
    "Answer:\\n\n",
    "\"\"\"\n",
    "\n",
    "doctor_chain = (ChatPromptTemplate.from_template(template)\n",
    "                        |llm|StrOutputParser())"
   ]
  },
  {
   "cell_type": "code",
   "execution_count": 6,
   "metadata": {},
   "outputs": [],
   "source": [
    "template = \"\"\"\n",
    "You are a system tasked with refining the previous answer on given topics.\n",
    "\n",
    "Input:\n",
    "\n",
    "Topics: {topics}\\n\n",
    "Chat History: {chat_history}\\n\n",
    "Question: {question}\\n\n",
    "Previous Answer: {answer}\\n\n",
    "\n",
    "Guidelines:\n",
    "- Carefully consider whether the question is relevant to the given topics. If the question\n",
    "or any of the previous answer indiates the question is irrelevant to the given topics, your final\n",
    "answer should not contain the answer to the question, instead you should kinldy introduce our topics,\n",
    "and guide the users to ask related questions.\n",
    "- Your task is to evaluate the input and generate refined answers.\n",
    "- If sources (urls or local file path) are mentioned in the previous answer, include them at the end of your response.\n",
    "If you don't find these kind of sources, you don't have to add sources in the end.\n",
    "- Ensure that the sources (if exists) listed are not duplicates.\n",
    "\n",
    "Answer:\n",
    "\n",
    "\"\"\"\n",
    "\n",
    "\n",
    "refine_chain = (ChatPromptTemplate.from_template(template)\n",
    "                        |llm|StrOutputParser())"
   ]
  },
  {
   "cell_type": "code",
   "execution_count": 7,
   "metadata": {},
   "outputs": [],
   "source": [
    "def refine(state):\n",
    "    response = refine_chain.invoke({\"question\": state[\"question\"],\n",
    "                                    \"chat_history\": state[\"chat_history\"],\n",
    "                                    \"topics\": topics,\n",
    "                                    \"answer\": state[\"generation\"]\n",
    "                                                        })\n",
    "    state['generation'] += [response]\n",
    "    return {\"generation\": state[\"generation\"]}\n",
    "    "
   ]
  },
  {
   "cell_type": "code",
   "execution_count": 8,
   "metadata": {},
   "outputs": [],
   "source": [
    "# from utils import read_configs_from_toml\n",
    "# tool_configs = read_configs_from_toml(\"tool_configs.toml\")\n",
    "\n",
    "# members = {tool_configs[tool]['name']: tool_configs[tool][\"description\"] for tool in tool_configs}\n",
    "# members"
   ]
  },
  {
   "cell_type": "code",
   "execution_count": 9,
   "metadata": {},
   "outputs": [],
   "source": [
    "from utils import init_memory\n",
    "chat_history = init_memory(llm)"
   ]
  },
  {
   "cell_type": "code",
   "execution_count": 10,
   "metadata": {},
   "outputs": [],
   "source": [
    "\n",
    "topics = [\"Large Language Model(llm) finetuning\", \"Explanable AI\", \"Heart Disease\"]\n",
    "# workers = {tool_configs[tool]['name']: tool_configs[tool][\"description\"] for tool in tool_configs}\n",
    "workers = {}\n",
    "workers[\"LLM-XAI Knowledge Expert\"] = \"\"\"\n",
    "An Expert in answering questions about Large language models (LLMs) and explainable AI (XAI).\n",
    "\"\"\"\n",
    "\n",
    "workers[\"Heart Disease Expert\"] = \"\"\"\n",
    "An expert in diagnosing heart disease.\n",
    "\"\"\"\n",
    "\n",
    "workers[\"Off-Topic Expert\"] = \"\"\"\n",
    "An Expert in answering questions beyond the given topics.\n",
    "\"\"\"\n",
    "\n",
    "template = \"\"\"\n",
    "\n",
    "\n",
    "You are a helpful AI assistant, collaborating with other experts to answer user's questions.\n",
    "Your role is to identify the most suitable expert to respond to each question \n",
    "based on their expertise or ask the team to stop when none of the\n",
    "expert's expertise fits the question or context explictly.\n",
    "\n",
    "Given the following inputs:\n",
    "Topics: {topics}\n",
    "Question: {question}\\n\n",
    "Context: {initial_answer}\\n\n",
    "\n",
    "This is the name and expertise of all experts:\n",
    "Expert List: {workers}\\n\n",
    "\n",
    "\n",
    "Guidelines for choosing the subsequent action:\n",
    "\n",
    "If the worker list is empty, respond with \"FINISH\".\n",
    "Otherwise,\n",
    "1. Be careful if the question or context is related to the given topics or not. \n",
    "\n",
    "2. Select the appropriate expert only according \n",
    "to the expertise description of experts. If none of the\n",
    "expert's expertise description fits the question or context,\n",
    "respond with \"FINISH\".\n",
    "\n",
    "Your response should either be the name of a expert or \"FINISH\". No other form of answer is allowed.\n",
    "\n",
    "Answer:\n",
    "\n",
    "\"\"\"\n",
    "\n",
    "\n",
    "supervisor_chain = (ChatPromptTemplate.from_template(template)\n",
    "                        |llm|StrOutputParser())\n",
    "\n",
    "\n"
   ]
  },
  {
   "cell_type": "code",
   "execution_count": 12,
   "metadata": {},
   "outputs": [],
   "source": [
    "# workers.pop(\"LLM-XAI Knowledge Expert\")"
   ]
  },
  {
   "cell_type": "code",
   "execution_count": 13,
   "metadata": {},
   "outputs": [],
   "source": [
    "# workers.pop(\"Off Topic Expert\")"
   ]
  },
  {
   "cell_type": "code",
   "execution_count": 14,
   "metadata": {},
   "outputs": [],
   "source": [
    "# question = \"I feel heartattack\"\n",
    "# chat_history = init_memory(llm)\n",
    "# response = supervisor_chain.invoke({\"question\": question,\n",
    "#                          \"initial_answer\": initial_answer_chain.invoke({\"question\": question,\n",
    "#                                                                      \"chat_history\": chat_history}),\n",
    "#                          \"workers\": workers,\n",
    "#                          \"topics\": topics,\n",
    "#                          })\n",
    "# response"
   ]
  },
  {
   "cell_type": "code",
   "execution_count": 35,
   "metadata": {},
   "outputs": [
    {
     "data": {
      "text/plain": [
       "<service.llama_index_retrive.RouterLlamaRetriever at 0x165e4d810>"
      ]
     },
     "execution_count": 35,
     "metadata": {},
     "output_type": "execute_result"
    }
   ],
   "source": [
    "retriever"
   ]
  },
  {
   "cell_type": "code",
   "execution_count": 39,
   "metadata": {},
   "outputs": [],
   "source": [
    "from typing_extensions import TypedDict, Dict\n",
    "from typing import List\n",
    "from langchain_core.memory import BaseMemory\n",
    "### State\n",
    "\n",
    "class GraphState(TypedDict):\n",
    "    question : str\n",
    "    generation : List[str]\n",
    "    chat_history: BaseMemory\n",
    "    worker_trace: List[str]\n",
    "    workers: Dict"
   ]
  },
  {
   "cell_type": "code",
   "execution_count": 34,
   "metadata": {},
   "outputs": [
    {
     "ename": "NameError",
     "evalue": "name 'state' is not defined",
     "output_type": "error",
     "traceback": [
      "\u001b[0;31m---------------------------------------------------------------------------\u001b[0m",
      "\u001b[0;31mNameError\u001b[0m                                 Traceback (most recent call last)",
      "Cell \u001b[0;32mIn[34], line 1\u001b[0m\n\u001b[0;32m----> 1\u001b[0m state\u001b[39m.\u001b[39mworkers\n",
      "\u001b[0;31mNameError\u001b[0m: name 'state' is not defined"
     ]
    }
   ],
   "source": [
    "state.workers"
   ]
  },
  {
   "cell_type": "code",
   "execution_count": 29,
   "metadata": {},
   "outputs": [
    {
     "data": {
      "text/plain": [
       "{}"
      ]
     },
     "execution_count": 29,
     "metadata": {},
     "output_type": "execute_result"
    }
   ],
   "source": [
    "workers"
   ]
  },
  {
   "cell_type": "code",
   "execution_count": 31,
   "metadata": {},
   "outputs": [],
   "source": [
    "def create_initial_answer(state):\n",
    "    response = initial_answer_chain.invoke({\"question\": state[\"question\"],\n",
    "                                 \"chat_history\": state[\"chat_history\"]})\n",
    "    state['generation'] = []\n",
    "    state['generation'] += [response]\n",
    "    \n",
    "    return {'generation': state['generation'], \"worker_trace\": [], \"workers\": workers}\n",
    "\n",
    "def router(state):\n",
    "    if len(state[\"worker_trace\"]) >0:\n",
    "        state[\"workers\"].pop(state[\"worker_trace\"][-1])\n",
    "    if len(state[\"worker_trace\"]) >0 and state[\"worker_trace\"][-1] != \"Off-Topic Expert\":\n",
    "        state[\"workers\"].pop(\"Off-Topic Expert\")\n",
    "    response = supervisor_chain.invoke({\"question\": state[\"question\"],\n",
    "                         \"initial_answer\": state['generation'],\n",
    "                         \"workers\": state[\"workers\"],\n",
    "                         \"topics\": topics,\n",
    "                         })\n",
    "    state[\"worker_trace\"] += [response]\n",
    "    return {\"worker_trace\": state[\"worker_trace\"], \"workers\": state[\"workers\"]}"
   ]
  },
  {
   "cell_type": "code",
   "execution_count": 17,
   "metadata": {},
   "outputs": [
    {
     "name": "stdout",
     "output_type": "stream",
     "text": [
      "You don't have any resources from the local pdfs regarding explainable_ai\n",
      "You don't have any resources from the youtube subtitles regarding explainable_ai\n"
     ]
    }
   ],
   "source": [
    "template = \"\"\"\n",
    "Please respond to the question below using the information from the provided \"Context\".\n",
    "\n",
    "Question: {question} \\n\n",
    "\n",
    "Context: {context}\n",
    "\n",
    "\n",
    "When writing your response, append a list of URLs or file path from the \"Context\" that were used as sources \n",
    "\n",
    "to derive your answer as the final part of the answer.\n",
    "\n",
    "Answer:\\n\n",
    "\"\"\"\n",
    "retriever_chain = ChatPromptTemplate.from_template(template)|llm|StrOutputParser()\n",
    "\n",
    "from api.tools.retriever import create_retriever_as_tool\n",
    "from api.utils import get_router_retriever\n",
    "from utils import read_configs_from_toml\n",
    "configs = read_configs_from_toml(\"config.toml\")\n",
    "retriever = get_router_retriever(configs)\n",
    "\n",
    "\n"
   ]
  },
  {
   "cell_type": "code",
   "execution_count": 45,
   "metadata": {},
   "outputs": [
    {
     "data": {
      "text/plain": [
       "True"
      ]
     },
     "execution_count": 45,
     "metadata": {},
     "output_type": "execute_result"
    }
   ],
   "source": [
    "from langchain_core.runnables import Runnable\n",
    "isinstance(refine_chain, Runnable)"
   ]
  },
  {
   "cell_type": "code",
   "execution_count": 18,
   "metadata": {},
   "outputs": [],
   "source": [
    "def retrieve(state):\n",
    "    docs = retriever.get_relevant_documents(state[\"question\"])\n",
    "    response = retriever_chain.invoke({\"question\": state[\"question\"],\n",
    "                            \"context\": docs})\n",
    "    state['generation'] += [response]\n",
    "    return {\"generation\": state[\"generation\"]}"
   ]
  },
  {
   "cell_type": "code",
   "execution_count": 19,
   "metadata": {},
   "outputs": [],
   "source": [
    "def docter(state):\n",
    "    response = doctor_chain.invoke({\"question\": state[\"question\"]})\n",
    "    state['generation'] += [response]\n",
    "    return {\"generation\": state[\"generation\"]}"
   ]
  },
  {
   "cell_type": "code",
   "execution_count": 20,
   "metadata": {},
   "outputs": [],
   "source": [
    "template = \"\"\"\n",
    "Topics: {topics}\n",
    "\n",
    "If the question is not related to the given topics, \n",
    "respond with: 'Hi, that seems off-topic.'\n",
    "\n",
    "However, if the input is a greeting e.g. 'Hi' or 'Hello' and more, \n",
    "the chatbot should respond politely with: 'Hi, what can I help you with today?\n",
    "\n",
    "Question : {question} \\n\n",
    "Answer: \\n\"\"\"\n",
    "off_topic_chain = ChatPromptTemplate.from_template(template)|llm|StrOutputParser()\n",
    "\n",
    "def off_topic_answer(state):\n",
    "    response = off_topic_chain.invoke({\"question\": state[\"question\"],\n",
    "                            \"topics\": topics})\n",
    "    state['generation'] += [response]\n",
    "    return {\"generation\": state[\"generation\"]}"
   ]
  },
  {
   "cell_type": "code",
   "execution_count": 21,
   "metadata": {},
   "outputs": [],
   "source": [
    "# workers[\"LLM-XAI Knowledge Expert\"] = \"\"\"\n",
    "# An Expert in Large language models (LLMs) and explainable AI (XAI)\n",
    "# \"\"\"\n",
    "\n",
    "# workers[\"Heart Disease Expert\"] = \"\"\"\n",
    "# An expert in diagnosing heart disease.\n",
    "# \"\"\"\n",
    "\n",
    "# workers[\"Off-Topic Expert\"] = \"\"\"\n",
    "# An Expert in answering off-topic questions.\n",
    "# \"\"\""
   ]
  },
  {
   "cell_type": "code",
   "execution_count": 40,
   "metadata": {},
   "outputs": [],
   "source": [
    "from langgraph.graph import END, StateGraph\n",
    "workflow = StateGraph(GraphState)\n",
    "workflow.add_node(\"create_initial_answer\", create_initial_answer)\n",
    "workflow.add_node(\"router\", router)\n",
    "workflow.add_node(\"off_topic_answer\", off_topic_answer)\n",
    "workflow.add_node(\"retrieve\", retrieve)\n",
    "workflow.add_node(\"docter\", docter)\n",
    "workflow.add_node(\"refine\", refine)\n",
    "\n",
    "workflow.set_entry_point(\"create_initial_answer\")\n",
    "\n",
    "workflow.add_edge(\"create_initial_answer\", \"router\")\n",
    "workflow.add_conditional_edges(\"router\",\n",
    "                  lambda x: x[\"worker_trace\"][-1],\n",
    "                  {\"FINISH\": \"refine\",\n",
    "                   \"Off-Topic Expert\":\"off_topic_answer\",\n",
    "                   \"Heart Disease Expert\":\"docter\",\n",
    "                   \"LLM-XAI Knowledge Expert\":\"retrieve\"})\n",
    "\n",
    "workflow.add_edge(\"off_topic_answer\", \"refine\")\n",
    "workflow.add_edge(\"refine\", END)\n",
    "\n",
    "workflow.add_edge(\"retrieve\", \"router\")\n",
    "workflow.add_edge(\"docter\", \"router\")\n",
    "\n",
    "app = workflow.compile()\n"
   ]
  },
  {
   "cell_type": "code",
   "execution_count": 23,
   "metadata": {},
   "outputs": [
    {
     "data": {
      "image/jpeg": "[encoded data removed]",
      "text/plain": [
       "<IPython.core.display.Image object>"
      ]
     },
     "execution_count": 23,
     "metadata": {},
     "output_type": "execute_result"
    }
   ],
   "source": [
    "from IPython.display import Image\n",
    "\n",
    "Image(app.get_graph().draw_mermaid_png())"
   ]
  },
  {
   "cell_type": "code",
   "execution_count": 24,
   "metadata": {},
   "outputs": [
    {
     "data": {
      "text/plain": [
       "{'question': 'how to finetune LLM',\n",
       " 'generation': [\"To fine-tune a language model like LLM (Large Language Model), you typically need a large dataset of text that is relevant to the specific task or domain you want to improve the model on. Here are some general steps to finetune LLM:\\n\\n1. Gather a dataset: Collect a large amount of text data that is related to the specific task or domain you want to improve the model on. This dataset should be representative of the language and topics you want the model to excel in.\\n\\n2. Preprocess the data: Clean and preprocess the text data to remove any noise, irrelevant information, or inconsistencies. This may involve tasks like tokenization, lowercasing, removing special characters, and handling missing data.\\n\\n3. Define the finetuning task: Clearly define the task or objective you want to improve the model on. This could be text generation, sentiment analysis, question answering, etc.\\n\\n4. Finetune the model: Use the preprocessed dataset and the defined task to train the LLM model on the specific domain or task. This involves updating the model's parameters based on the new data to improve its performance on the finetuning task.\\n\\n5. Evaluate the model: After finetuning the model, evaluate its performance on a separate validation dataset to assess how well it has learned the task or domain-specific information.\\n\\n6. Iterate and optimize: Fine-tune the model iteratively by adjusting hyperparameters, dataset size, and training duration to optimize its performance on the finetuning task.\\n\\nRemember that fine-tuning a language model like LLM requires computational resources and expertise in machine learning. It's also important to consider ethical implications and biases in the data when training and deploying the model.\",\n",
       "  \"To fine-tune a Large Language Model (LLM), it is essential to follow a structured approach. Here are some key steps to consider:\\n\\n1. Define the project's vision and scope: Clearly outline the objectives of the LLM project, whether it will be a universal tool or target specific tasks like named entity recognition. This step helps in saving time and resources.\\n\\n2. Choose the appropriate model: Decide whether to train a model from scratch or modify an existing one. In many cases, adapting a pre-existing model is efficient, but some situations may require fine-tuning with a new model.\\n\\n3. Assess model performance: After preparing the model, evaluate its performance. If the results are unsatisfactory, consider techniques like prompt engineering or further fine-tuning to enhance the model's capabilities.\\n\\n4. Iteratively refine the model: Continuously monitor the model's performance and make adjustments to improve its accuracy and relevance to the specific business or industry requirements.\\n\\nBy following these steps, businesses can effectively fine-tune their LLMs to meet their unique needs and achieve better results in various tasks.\\n\\nSources:\\n- URL: https://www.superannotate.com/blog/llm-fine-tuning\\n- URL: https://www.superannotate.com/blog/llm-prompting-tricks\",\n",
       "  \"To fine-tune a Large Language Model (LLM), such as GPT-3, you need to follow a structured approach. Here are some key steps to consider:\\n\\n1. Define the project's vision and scope: Clearly outline the objectives of the LLM project, whether it will be a universal tool or target specific tasks like named entity recognition. This step helps in saving time and resources.\\n\\n2. Choose the appropriate model: Decide whether to train a model from scratch or modify an existing one. In many cases, adapting a pre-existing model is efficient, but some situations may require fine-tuning with a new model.\\n\\n3. Assess model performance: After preparing the model, evaluate its performance. If the results are unsatisfactory, consider techniques like prompt engineering or further fine-tuning to enhance the model's capabilities.\\n\\n4. Iteratively refine the model: Continuously monitor the model's performance and make adjustments to improve its accuracy and relevance to the specific business or industry requirements.\\n\\nRemember that fine-tuning a language model like LLM requires computational resources and expertise in machine learning. It's also important to consider ethical implications and biases in the data when training and deploying the model.\\n\\nFor more detailed information on fine-tuning LLMs, you can explore the following sources:\\n- URL: https://www.superannotate.com/blog/llm-fine-tuning\\n- URL: https://www.superannotate.com/blog/llm-prompting-tricks\"],\n",
       " 'chat_history': ConversationSummaryBufferMemory(llm=ChatOpenAI(callbacks=[<langchain.callbacks.streaming_stdout_final_only.FinalStreamingStdOutCallbackHandler object at 0x15d8af350>], client=<openai.resources.chat.completions.Completions object at 0x161879e10>, async_client=<openai.resources.chat.completions.AsyncCompletions object at 0x161881c50>, temperature=0.0, openai_api_key=SecretStr('**********'), openai_proxy='', streaming=True), return_messages=True, max_token_limit=500),\n",
       " 'worker_trace': ['LLM-XAI Knowledge Expert', 'FINISH'],\n",
       " 'workers': {'Heart Disease Expert': '\\nAn expert in diagnosing heart disease.\\n'}}"
      ]
     },
     "execution_count": 24,
     "metadata": {},
     "output_type": "execute_result"
    }
   ],
   "source": [
    "question=\"how to finetune LLM\"\n",
    "app.invoke({\"question\":question,\n",
    "            \"chat_history\": chat_history,\n",
    "            \"workers\": workers,\n",
    "            \"topics\": topics})"
   ]
  },
  {
   "cell_type": "code",
   "execution_count": 41,
   "metadata": {},
   "outputs": [
    {
     "ename": "KeyError",
     "evalue": "'chat_history'",
     "output_type": "error",
     "traceback": [
      "\u001b[0;31m---------------------------------------------------------------------------\u001b[0m",
      "\u001b[0;31mKeyError\u001b[0m                                  Traceback (most recent call last)",
      "Cell \u001b[0;32mIn[41], line 9\u001b[0m\n\u001b[1;32m      1\u001b[0m question\u001b[39m=\u001b[39m\u001b[39m\"\u001b[39m\u001b[39mI feel heart attack\u001b[39m\u001b[39m\"\u001b[39m\n\u001b[1;32m      2\u001b[0m events \u001b[39m=\u001b[39m app\u001b[39m.\u001b[39mstream({\n\u001b[1;32m      3\u001b[0m     \u001b[39m\"\u001b[39m\u001b[39mquestion\u001b[39m\u001b[39m\"\u001b[39m:question,\n\u001b[1;32m      4\u001b[0m             \u001b[39m\"\u001b[39m\u001b[39mchat_history\u001b[39m\u001b[39m\"\u001b[39m: chat_history,\n\u001b[0;32m   (...)\u001b[0m\n\u001b[1;32m      7\u001b[0m             \u001b[39m\"\u001b[39m\u001b[39mretriever\u001b[39m\u001b[39m\"\u001b[39m: \u001b[39m\"\u001b[39m\u001b[39mss\u001b[39m\u001b[39m\"\u001b[39m},\n\u001b[1;32m      8\u001b[0m )\n\u001b[0;32m----> 9\u001b[0m \u001b[39mfor\u001b[39;49;00m s \u001b[39min\u001b[39;49;00m events:\n\u001b[1;32m     10\u001b[0m     \u001b[39mprint\u001b[39;49m(s)\n\u001b[1;32m     11\u001b[0m     \u001b[39mprint\u001b[39;49m(\u001b[39m\"\u001b[39;49m\u001b[39m----\u001b[39;49m\u001b[39m\"\u001b[39;49m)\n",
      "File \u001b[0;32m~/miniconda3/envs/chatbot/lib/python3.11/site-packages/langgraph/pregel/__init__.py:771\u001b[0m, in \u001b[0;36mPregel.stream\u001b[0;34m(self, input, config, stream_mode, output_keys, input_keys, interrupt_before, interrupt_after, debug)\u001b[0m\n\u001b[1;32m    764\u001b[0m done, inflight \u001b[39m=\u001b[39m concurrent\u001b[39m.\u001b[39mfutures\u001b[39m.\u001b[39mwait(\n\u001b[1;32m    765\u001b[0m     futures,\n\u001b[1;32m    766\u001b[0m     return_when\u001b[39m=\u001b[39mconcurrent\u001b[39m.\u001b[39mfutures\u001b[39m.\u001b[39mFIRST_EXCEPTION,\n\u001b[1;32m    767\u001b[0m     timeout\u001b[39m=\u001b[39m\u001b[39mself\u001b[39m\u001b[39m.\u001b[39mstep_timeout,\n\u001b[1;32m    768\u001b[0m )\n\u001b[1;32m    770\u001b[0m \u001b[39m# panic on failure or timeout\u001b[39;00m\n\u001b[0;32m--> 771\u001b[0m _panic_or_proceed(done, inflight, step)\n\u001b[1;32m    773\u001b[0m \u001b[39m# combine pending writes from all tasks\u001b[39;00m\n\u001b[1;32m    774\u001b[0m pending_writes \u001b[39m=\u001b[39m deque[\u001b[39mtuple\u001b[39m[\u001b[39mstr\u001b[39m, Any]]()\n",
      "File \u001b[0;32m~/miniconda3/envs/chatbot/lib/python3.11/site-packages/langgraph/pregel/__init__.py:1263\u001b[0m, in \u001b[0;36m_panic_or_proceed\u001b[0;34m(done, inflight, step)\u001b[0m\n\u001b[1;32m   1261\u001b[0m             inflight\u001b[39m.\u001b[39mpop()\u001b[39m.\u001b[39mcancel()\n\u001b[1;32m   1262\u001b[0m         \u001b[39m# raise the exception\u001b[39;00m\n\u001b[0;32m-> 1263\u001b[0m         \u001b[39mraise\u001b[39;00m exc\n\u001b[1;32m   1264\u001b[0m         \u001b[39m# TODO this is where retry of an entire step would happen\u001b[39;00m\n\u001b[1;32m   1266\u001b[0m \u001b[39mif\u001b[39;00m inflight:\n\u001b[1;32m   1267\u001b[0m     \u001b[39m# if we got here means we timed out\u001b[39;00m\n",
      "File \u001b[0;32m~/miniconda3/envs/chatbot/lib/python3.11/concurrent/futures/thread.py:58\u001b[0m, in \u001b[0;36m_WorkItem.run\u001b[0;34m(self)\u001b[0m\n\u001b[1;32m     55\u001b[0m     \u001b[39mreturn\u001b[39;00m\n\u001b[1;32m     57\u001b[0m \u001b[39mtry\u001b[39;00m:\n\u001b[0;32m---> 58\u001b[0m     result \u001b[39m=\u001b[39m \u001b[39mself\u001b[39;49m\u001b[39m.\u001b[39;49mfn(\u001b[39m*\u001b[39;49m\u001b[39mself\u001b[39;49m\u001b[39m.\u001b[39;49margs, \u001b[39m*\u001b[39;49m\u001b[39m*\u001b[39;49m\u001b[39mself\u001b[39;49m\u001b[39m.\u001b[39;49mkwargs)\n\u001b[1;32m     59\u001b[0m \u001b[39mexcept\u001b[39;00m \u001b[39mBaseException\u001b[39;00m \u001b[39mas\u001b[39;00m exc:\n\u001b[1;32m     60\u001b[0m     \u001b[39mself\u001b[39m\u001b[39m.\u001b[39mfuture\u001b[39m.\u001b[39mset_exception(exc)\n",
      "File \u001b[0;32m~/miniconda3/envs/chatbot/lib/python3.11/site-packages/langchain_core/runnables/base.py:2499\u001b[0m, in \u001b[0;36mRunnableSequence.invoke\u001b[0;34m(self, input, config)\u001b[0m\n\u001b[1;32m   2497\u001b[0m \u001b[39mtry\u001b[39;00m:\n\u001b[1;32m   2498\u001b[0m     \u001b[39mfor\u001b[39;00m i, step \u001b[39min\u001b[39;00m \u001b[39menumerate\u001b[39m(\u001b[39mself\u001b[39m\u001b[39m.\u001b[39msteps):\n\u001b[0;32m-> 2499\u001b[0m         \u001b[39minput\u001b[39m \u001b[39m=\u001b[39m step\u001b[39m.\u001b[39;49minvoke(\n\u001b[1;32m   2500\u001b[0m             \u001b[39minput\u001b[39;49m,\n\u001b[1;32m   2501\u001b[0m             \u001b[39m# mark each step as a child run\u001b[39;49;00m\n\u001b[1;32m   2502\u001b[0m             patch_config(\n\u001b[1;32m   2503\u001b[0m                 config, callbacks\u001b[39m=\u001b[39;49mrun_manager\u001b[39m.\u001b[39;49mget_child(\u001b[39mf\u001b[39;49m\u001b[39m\"\u001b[39;49m\u001b[39mseq:step:\u001b[39;49m\u001b[39m{\u001b[39;49;00mi\u001b[39m+\u001b[39;49m\u001b[39m1\u001b[39;49m\u001b[39m}\u001b[39;49;00m\u001b[39m\"\u001b[39;49m)\n\u001b[1;32m   2504\u001b[0m             ),\n\u001b[1;32m   2505\u001b[0m         )\n\u001b[1;32m   2506\u001b[0m \u001b[39m# finish the root run\u001b[39;00m\n\u001b[1;32m   2507\u001b[0m \u001b[39mexcept\u001b[39;00m \u001b[39mBaseException\u001b[39;00m \u001b[39mas\u001b[39;00m e:\n",
      "File \u001b[0;32m~/miniconda3/envs/chatbot/lib/python3.11/site-packages/langgraph/utils.py:88\u001b[0m, in \u001b[0;36mRunnableCallable.invoke\u001b[0;34m(self, input, config)\u001b[0m\n\u001b[1;32m     82\u001b[0m     context\u001b[39m.\u001b[39mrun(var_child_runnable_config\u001b[39m.\u001b[39mset, config)\n\u001b[1;32m     83\u001b[0m     kwargs \u001b[39m=\u001b[39m (\n\u001b[1;32m     84\u001b[0m         {\u001b[39m*\u001b[39m\u001b[39m*\u001b[39m\u001b[39mself\u001b[39m\u001b[39m.\u001b[39mkwargs, \u001b[39m\"\u001b[39m\u001b[39mconfig\u001b[39m\u001b[39m\"\u001b[39m: config}\n\u001b[1;32m     85\u001b[0m         \u001b[39mif\u001b[39;00m accepts_config(\u001b[39mself\u001b[39m\u001b[39m.\u001b[39mfunc)\n\u001b[1;32m     86\u001b[0m         \u001b[39melse\u001b[39;00m \u001b[39mself\u001b[39m\u001b[39m.\u001b[39mkwargs\n\u001b[1;32m     87\u001b[0m     )\n\u001b[0;32m---> 88\u001b[0m     ret \u001b[39m=\u001b[39m context\u001b[39m.\u001b[39;49mrun(\u001b[39mself\u001b[39;49m\u001b[39m.\u001b[39;49mfunc, \u001b[39minput\u001b[39;49m, \u001b[39m*\u001b[39;49m\u001b[39m*\u001b[39;49mkwargs)\n\u001b[1;32m     89\u001b[0m \u001b[39mif\u001b[39;00m \u001b[39misinstance\u001b[39m(ret, Runnable) \u001b[39mand\u001b[39;00m \u001b[39mself\u001b[39m\u001b[39m.\u001b[39mrecurse:\n\u001b[1;32m     90\u001b[0m     \u001b[39mreturn\u001b[39;00m ret\u001b[39m.\u001b[39minvoke(\u001b[39minput\u001b[39m, config)\n",
      "Cell \u001b[0;32mIn[31], line 3\u001b[0m, in \u001b[0;36mcreate_initial_answer\u001b[0;34m(state)\u001b[0m\n\u001b[1;32m      1\u001b[0m \u001b[39mdef\u001b[39;00m \u001b[39mcreate_initial_answer\u001b[39m(state):\n\u001b[1;32m      2\u001b[0m     response \u001b[39m=\u001b[39m initial_answer_chain\u001b[39m.\u001b[39minvoke({\u001b[39m\"\u001b[39m\u001b[39mquestion\u001b[39m\u001b[39m\"\u001b[39m: state[\u001b[39m\"\u001b[39m\u001b[39mquestion\u001b[39m\u001b[39m\"\u001b[39m],\n\u001b[0;32m----> 3\u001b[0m                                  \u001b[39m\"\u001b[39m\u001b[39mchat_history\u001b[39m\u001b[39m\"\u001b[39m: state[\u001b[39m\"\u001b[39;49m\u001b[39mchat_history\u001b[39;49m\u001b[39m\"\u001b[39;49m]})\n\u001b[1;32m      4\u001b[0m     state[\u001b[39m'\u001b[39m\u001b[39mgeneration\u001b[39m\u001b[39m'\u001b[39m] \u001b[39m=\u001b[39m []\n\u001b[1;32m      5\u001b[0m     state[\u001b[39m'\u001b[39m\u001b[39mgeneration\u001b[39m\u001b[39m'\u001b[39m] \u001b[39m+\u001b[39m\u001b[39m=\u001b[39m [response]\n",
      "\u001b[0;31mKeyError\u001b[0m: 'chat_history'"
     ]
    }
   ],
   "source": [
    "question=\"I feel heart attack\"\n",
    "events = app.stream({\n",
    "    \"question\":question,\n",
    "            \"chat_history\": chat_history,\n",
    "            \"workers\": workers,\n",
    "            \"topics\": topics,\n",
    "            \"retriever\": \"ss\"},\n",
    ")\n",
    "for s in events:\n",
    "    print(s)\n",
    "    print(\"----\")"
   ]
  },
  {
   "cell_type": "markdown",
   "metadata": {},
   "source": []
  },
  {
   "cell_type": "code",
   "execution_count": null,
   "metadata": {},
   "outputs": [],
   "source": []
  }
 ],
 "metadata": {
  "kernelspec": {
   "display_name": "chatbot",
   "language": "python",
   "name": "python3"
  },
  "language_info": {
   "codemirror_mode": {
    "name": "ipython",
    "version": 3
   },
   "file_extension": ".py",
   "mimetype": "text/x-python",
   "name": "python",
   "nbconvert_exporter": "python",
   "pygments_lexer": "ipython3",
   "version": "3.11.9"
  }
 },
 "nbformat": 4,
 "nbformat_minor": 2
}
